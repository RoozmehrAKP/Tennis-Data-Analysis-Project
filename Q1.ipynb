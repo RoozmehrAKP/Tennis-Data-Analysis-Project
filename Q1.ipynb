{
 "cells": [
  {
   "cell_type": "markdown",
   "metadata": {},
   "source": [
    "# How many tennis players are included in the dataset?"
   ]
  },
  {
   "cell_type": "code",
   "execution_count": 1,
   "metadata": {},
   "outputs": [],
   "source": [
    "import os\n",
    "import pandas as pd\n",
    "import matplotlib.pyplot as plt\n",
    "import seaborn as sns\n",
    "import numpy as np\n",
    "import warnings\n",
    "warnings.filterwarnings('ignore', category=FutureWarning)\n",
    "\n",
    "home_team_dataframe = pd.DataFrame()\n",
    "for file in os.listdir(\"raw/home_team_parquet\"):\n",
    "    single_stats = pd.read_parquet(\"raw/home_team_parquet/\" + file)\n",
    "    home_team_dataframe = pd.concat([home_team_dataframe, single_stats], axis= 'rows', ignore_index=True)\n",
    "\n",
    "away_team_dataframe = pd.DataFrame()\n",
    "for file in os.listdir(\"raw/away_team_parquet\"):\n",
    "    single_stats = pd.read_parquet(\"raw/away_team_parquet/\" + file)\n",
    "    away_team_dataframe = pd.concat([away_team_dataframe, single_stats], axis= 'rows', ignore_index=True)\n",
    "\n"
   ]
  },
  {
   "cell_type": "markdown",
   "metadata": {},
   "source": [
    "> ### How many tennis players are included in the dataset?"
   ]
  },
  {
   "cell_type": "code",
   "execution_count": 4,
   "metadata": {},
   "outputs": [
    {
     "name": "stdout",
     "output_type": "stream",
     "text": [
      "Total Number of Players: 596\n"
     ]
    }
   ],
   "source": [
    "# استخراج بازیکنان تیم خانه و تیم میهمان\n",
    "home_players = home_team_dataframe['player_id'] \n",
    "away_players = away_team_dataframe['player_id']\n",
    "\n",
    "# ادغام لیست بازیکنان تیم خانه و میهمان\n",
    "all_players = pd.concat([home_players, away_players])\n",
    "\n",
    "# شمارش بازیکنان منحصر به فرد\n",
    "unique_players_count = all_players.nunique()\n",
    "\n",
    "print(\"Total Number of Players:\", unique_players_count)"
   ]
  }
 ],
 "metadata": {
  "kernelspec": {
   "display_name": "base",
   "language": "python",
   "name": "python3"
  },
  "language_info": {
   "codemirror_mode": {
    "name": "ipython",
    "version": 3
   },
   "file_extension": ".py",
   "mimetype": "text/x-python",
   "name": "python",
   "nbconvert_exporter": "python",
   "pygments_lexer": "ipython3",
   "version": "3.12.4"
  }
 },
 "nbformat": 4,
 "nbformat_minor": 2
}
