{
 "cells": [
  {
   "cell_type": "markdown",
   "metadata": {},
   "source": [
    "# How many distinct countries are represented in the dataset?"
   ]
  },
  {
   "cell_type": "code",
   "execution_count": 1,
   "metadata": {},
   "outputs": [],
   "source": [
    "import os\n",
    "import pandas as pd\n",
    "import matplotlib.pyplot as plt\n",
    "import seaborn as sns\n",
    "import numpy as np\n",
    "\n",
    "import warnings\n",
    "warnings.filterwarnings('ignore', category=FutureWarning)\n",
    "\n",
    "home_team_dataframe = pd.DataFrame()\n",
    "for file in os.listdir(\"raw/home_team_parquet\"):\n",
    "    single_stats = pd.read_parquet(\"raw/home_team_parquet/\" + file)\n",
    "    home_team_dataframe = pd.concat([home_team_dataframe, single_stats], axis= 'rows', ignore_index=True)\n",
    "\n",
    "away_team_dataframe = pd.DataFrame()\n",
    "for file in os.listdir(\"raw/away_team_parquet\"):\n",
    "    single_stats = pd.read_parquet(\"raw/away_team_parquet/\" + file)\n",
    "    away_team_dataframe = pd.concat([away_team_dataframe, single_stats], axis= 'rows', ignore_index=True)\n",
    "\n",
    "event_dataframe = pd.DataFrame()\n",
    "for file in os.listdir(\"raw/event_parquet\"):\n",
    "    single_stats = pd.read_parquet(\"raw/event_parquet/\" + file)\n",
    "    event_dataframe = pd.concat([event_dataframe, single_stats], axis= 'rows', ignore_index=True)\n"
   ]
  },
  {
   "cell_type": "code",
   "execution_count": 23,
   "metadata": {},
   "outputs": [
    {
     "name": "stdout",
     "output_type": "stream",
     "text": [
      "There are 70 distinct countries represented in the dataset.\n"
     ]
    }
   ],
   "source": [
    "\n",
    "\n",
    "# ترکیب دو جدول home_team_dataframe و away_team_dataframe (در صورت نیاز)\n",
    "combined_dataframe = pd.concat([home_team_dataframe, away_team_dataframe])\n",
    "\n",
    "# محاسبه تعداد کشورهای منحصربه‌فرد\n",
    "distinct_countries = combined_dataframe['country'].nunique()\n",
    "print(f\"There are {distinct_countries} distinct countries represented in the dataset.\")\n",
    "\n",
    "# شمارش تعداد بازیکنان از هر کشور\n",
    "country_counts = combined_dataframe['country'].value_counts()\n"
   ]
  },
  {
   "cell_type": "code",
   "execution_count": null,
   "metadata": {},
   "outputs": [],
   "source": []
  }
 ],
 "metadata": {
  "kernelspec": {
   "display_name": "base",
   "language": "python",
   "name": "python3"
  },
  "language_info": {
   "codemirror_mode": {
    "name": "ipython",
    "version": 3
   },
   "file_extension": ".py",
   "mimetype": "text/x-python",
   "name": "python",
   "nbconvert_exporter": "python",
   "pygments_lexer": "ipython3",
   "version": "3.12.4"
  }
 },
 "nbformat": 4,
 "nbformat_minor": 2
}
