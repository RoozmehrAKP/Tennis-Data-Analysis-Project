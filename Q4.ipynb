{
 "cells": [
  {
   "cell_type": "markdown",
   "metadata": {},
   "source": [
    "# What is the longest match recorded in terms of duration?"
   ]
  },
  {
   "cell_type": "code",
   "execution_count": 1,
   "metadata": {},
   "outputs": [],
   "source": [
    "import os\n",
    "import pandas as pd\n",
    "import matplotlib.pyplot as plt\n",
    "import seaborn as sns\n",
    "import numpy as np\n",
    "\n",
    "import warnings\n",
    "warnings.filterwarnings('ignore', category=FutureWarning)\n",
    "\n",
    "time_dataframe = pd.DataFrame()\n",
    "for file in os.listdir(\"raw/time_parquet\"):\n",
    "    single_stats = pd.read_parquet(\"raw/time_parquet/\" + file)\n",
    "    time_dataframe = pd.concat([time_dataframe, single_stats], axis= 'rows', ignore_index=True)\n"
   ]
  },
  {
   "cell_type": "code",
   "execution_count": 4,
   "metadata": {},
   "outputs": [
    {
     "name": "stdout",
     "output_type": "stream",
     "text": [
      "longest_match_id: 11699235.0 with match time of: 213.91666666666666 min\n"
     ]
    }
   ],
   "source": [
    "time_dataframe.fillna(0, inplace=True)\n",
    "\n",
    "# محاسبه مجموع دوره‌ها (مدت زمان کل مسابقه) برای هر مسابقه\n",
    "time_dataframe['total_duration'] = (\n",
    "    time_dataframe['period_1'] +\n",
    "    time_dataframe['period_2'] +\n",
    "    time_dataframe['period_3'] +\n",
    "    time_dataframe['period_4'] +\n",
    "    time_dataframe['period_5']\n",
    ")\n",
    "\n",
    "# تبدیل total_duration از ثانیه به دقیقه\n",
    "time_dataframe['total_duration'] = time_dataframe['total_duration'] / 60\n",
    "# پیدا کردن طولانی‌ترین مسابقه\n",
    "longest_match = time_dataframe.loc[time_dataframe['total_duration'].idxmax()]\n",
    "\n",
    "# استخراج اطلاعات طولانی‌ترین مسابقه\n",
    "longest_match_id = longest_match['match_id']\n",
    "longest_match_duration = longest_match['total_duration']\n",
    "\n",
    "print(f\"longest_match_id: {longest_match_id} with match time of: {longest_match_duration} min\")"
   ]
  },
  {
   "cell_type": "markdown",
   "metadata": {},
   "source": [
    "**Analysis1 is based on this question**"
   ]
  },
  {
   "cell_type": "markdown",
   "metadata": {},
   "source": []
  }
 ],
 "metadata": {
  "kernelspec": {
   "display_name": "base",
   "language": "python",
   "name": "python3"
  },
  "language_info": {
   "codemirror_mode": {
    "name": "ipython",
    "version": 3
   },
   "file_extension": ".py",
   "mimetype": "text/x-python",
   "name": "python",
   "nbconvert_exporter": "python",
   "pygments_lexer": "ipython3",
   "version": "3.12.4"
  }
 },
 "nbformat": 4,
 "nbformat_minor": 2
}
