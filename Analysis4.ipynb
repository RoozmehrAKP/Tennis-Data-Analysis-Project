{
 "cells": [
  {
   "cell_type": "markdown",
   "metadata": {},
   "source": [
    "# Does the ground type of the match have an impact on the number of goals or match points?"
   ]
  },
  {
   "cell_type": "code",
   "execution_count": 2,
   "metadata": {},
   "outputs": [],
   "source": [
    "\n",
    "import os\n",
    "import pandas as pd\n",
    "import matplotlib.pyplot as plt\n",
    "import seaborn as sns\n",
    "import numpy as np\n",
    "\n",
    "import warnings\n",
    "warnings.filterwarnings('ignore', category=FutureWarning)\n",
    "\n",
    "\n",
    "p_by_p_dataframe = pd.DataFrame()\n",
    "for file in os.listdir(\"raw/raw_point_by_point_parquet\"):\n",
    "    single_stats = pd.read_parquet(\"raw/raw_point_by_point_parquet/\" + file)\n",
    "    p_by_p_dataframe = pd.concat([p_by_p_dataframe, single_stats], axis= 'rows', ignore_index=True)\n",
    "\n",
    "\n",
    "tournament_dataframe = pd.DataFrame()\n",
    "for file in os.listdir(\"raw/tournament_parquet\"):\n",
    "    single_stats = pd.read_parquet(\"raw/tournament_parquet/\" + file)\n",
    "    tournament_dataframe = pd.concat([tournament_dataframe, single_stats], axis= 'rows', ignore_index=True)\n"
   ]
  },
  {
   "cell_type": "code",
   "execution_count": 3,
   "metadata": {},
   "outputs": [
    {
     "name": "stdout",
     "output_type": "stream",
     "text": [
      "['Red clay' 'Hardcourt outdoor' 'Hardcourt indoor' 'Carpet indoor' None\n",
      " 'Synthetic outdoor']\n"
     ]
    }
   ],
   "source": [
    "# مشاهده مقادیر یونیک در ستون ground_type\n",
    "unique_ground_types = tournament_dataframe['ground_type'].unique()\n",
    "\n",
    "# نمایش نتایج\n",
    "print(unique_ground_types)"
   ]
  },
  {
   "cell_type": "code",
   "execution_count": 4,
   "metadata": {},
   "outputs": [
    {
     "name": "stdout",
     "output_type": "stream",
     "text": [
      "ground_type\n",
      "Hardcourt outdoor    336\n",
      "Red clay             323\n",
      "Hardcourt indoor      84\n",
      "Carpet indoor          3\n",
      "Synthetic outdoor      1\n",
      "Name: count, dtype: int64\n"
     ]
    }
   ],
   "source": [
    "# مشاهده تعداد هر یک از مقادیر در ستون ground_type\n",
    "ground_type_counts = tournament_dataframe['ground_type'].value_counts()\n",
    "\n",
    "# نمایش تعداد هر کدام از مقادیر\n",
    "print(ground_type_counts)\n"
   ]
  },
  {
   "cell_type": "code",
   "execution_count": 5,
   "metadata": {},
   "outputs": [
    {
     "name": "stdout",
     "output_type": "stream",
     "text": [
      "ground_type\n",
      "Carpet indoor                  NaN\n",
      "Hardcourt indoor               NaN\n",
      "Hardcourt outdoor              NaN\n",
      "Red clay             7.545389e+200\n",
      "Synthetic outdoor     1.501515e+80\n",
      "Name: total_points, dtype: float64\n"
     ]
    }
   ],
   "source": [
    "\n",
    "# مرج دو جدول بر اساس مچ_آی‌دی\n",
    "merged_df = pd.merge(p_by_p_dataframe, tournament_dataframe[['match_id', 'ground_type']], on='match_id')\n",
    "\n",
    "# محاسبه مجموع امتیازات تیم میزبان و مهمان برای هر مسابقه\n",
    "merged_df['total_points'] = merged_df['home_point'] + merged_df['away_point']\n",
    "\n",
    "# محاسبه مجموع امتیازات هر مسابقه\n",
    "points_by_match = merged_df.groupby('match_id')['total_points'].sum().reset_index()\n",
    "\n",
    "# ترکیب مجموع امتیازات با نوع زمین\n",
    "merged_with_points = pd.merge(points_by_match, tournament_dataframe[['match_id', 'ground_type']], on='match_id')\n",
    "# تبدیل ستون total_points به نوع عددی\n",
    "merged_with_points['total_points'] = pd.to_numeric(merged_with_points['total_points'], errors='coerce')\n",
    "# محاسبه میانگین امتیازات برای هر نوع زمین\n",
    "avg_points_per_ground = merged_with_points.groupby('ground_type')['total_points'].mean()\n",
    "\n",
    "# نمایش نتیجه\n",
    "print(avg_points_per_ground)\n"
   ]
  },
  {
   "cell_type": "markdown",
   "metadata": {},
   "source": []
  },
  {
   "cell_type": "code",
   "execution_count": 6,
   "metadata": {},
   "outputs": [
    {
     "name": "stdout",
     "output_type": "stream",
     "text": [
      "['Red clay' 'Hardcourt outdoor' 'Hardcourt indoor' 'Carpet indoor' None\n",
      " 'Synthetic outdoor']\n"
     ]
    }
   ],
   "source": [
    "# مشاهده مقادیر منحصر به فرد در ستون ground_type\n",
    "unique_ground_types = tournament_dataframe['ground_type'].unique()\n",
    "print(unique_ground_types)\n"
   ]
  },
  {
   "cell_type": "code",
   "execution_count": 7,
   "metadata": {},
   "outputs": [],
   "source": [
    "# تبدیل نوع ستون به رشته و حذف مقادیر NaN\n",
    "tournament_dataframe['ground_type'] = tournament_dataframe['ground_type'].astype(str)\n",
    "tournament_dataframe = tournament_dataframe[tournament_dataframe['ground_type'] != 'nan']\n"
   ]
  },
  {
   "cell_type": "code",
   "execution_count": 8,
   "metadata": {},
   "outputs": [
    {
     "name": "stdout",
     "output_type": "stream",
     "text": [
      "ground_type\n",
      "Hardcourt outdoor    336\n",
      "Red clay             323\n",
      "Hardcourt indoor      84\n",
      "None                  17\n",
      "Carpet indoor          3\n",
      "Synthetic outdoor      1\n",
      "Name: count, dtype: int64\n"
     ]
    }
   ],
   "source": [
    "# مشاهده تعداد هر یک از مقادیر در ستون ground_type\n",
    "ground_type_counts = tournament_dataframe['ground_type'].value_counts()\n",
    "\n",
    "# نمایش تعداد هر کدام از مقادیر\n",
    "print(ground_type_counts)\n"
   ]
  },
  {
   "cell_type": "code",
   "execution_count": 9,
   "metadata": {},
   "outputs": [
    {
     "name": "stdout",
     "output_type": "stream",
     "text": [
      "ground_type\n",
      "Carpet indoor                  NaN\n",
      "Hardcourt indoor               NaN\n",
      "Hardcourt outdoor              NaN\n",
      "None                           NaN\n",
      "Red clay             7.545389e+200\n",
      "Synthetic outdoor     1.501515e+80\n",
      "Name: total_points, dtype: float64\n"
     ]
    }
   ],
   "source": [
    "\n",
    "# Merge دو جدول بر اساس match_id\n",
    "merged_df = pd.merge(p_by_p_dataframe, tournament_dataframe[['match_id', 'ground_type']], on='match_id')\n",
    "\n",
    "# محاسبه مجموع امتیازات تیم میزبان و مهمان برای هر مسابقه\n",
    "merged_df['total_points'] = merged_df['home_point'] + merged_df['away_point']\n",
    "\n",
    "# محاسبه مجموع امتیازات هر مسابقه\n",
    "points_by_match = merged_df.groupby('match_id')['total_points'].sum().reset_index()\n",
    "\n",
    "# ترکیب مجموع امتیازات با نوع زمین\n",
    "merged_with_points = pd.merge(points_by_match, tournament_dataframe[['match_id', 'ground_type']], on='match_id')\n",
    "# تبدیل ستون total_points به نوع عددی\n",
    "merged_with_points['total_points'] = pd.to_numeric(merged_with_points['total_points'], errors='coerce')\n",
    "# محاسبه میانگین امتیازات برای هر نوع زمین\n",
    "avg_points_per_ground = merged_with_points.groupby('ground_type')['total_points'].mean()\n",
    "\n",
    "# نمایش نتیجه\n",
    "print(avg_points_per_ground)\n"
   ]
  },
  {
   "cell_type": "code",
   "execution_count": 10,
   "metadata": {},
   "outputs": [],
   "source": [
    "# حذف ردیف‌هایی که مقادیر غیرعددی دارند\n",
    "merged_df = merged_df[merged_df['home_point'].apply(lambda x: str(x).replace('.', '', 1).isdigit())]\n",
    "merged_df = merged_df[merged_df['away_point'].apply(lambda x: str(x).replace('.', '', 1).isdigit())]\n",
    "\n",
    "# تبدیل به نوع عددی\n",
    "merged_df['home_point'] = pd.to_numeric(merged_df['home_point'], errors='coerce')\n",
    "merged_df['away_point'] = pd.to_numeric(merged_df['away_point'], errors='coerce')\n",
    "\n",
    "# محاسبه مجموع امتیازات\n",
    "merged_df['total_points'] = merged_df['home_point'] + merged_df['away_point']\n"
   ]
  },
  {
   "cell_type": "code",
   "execution_count": 11,
   "metadata": {},
   "outputs": [
    {
     "name": "stdout",
     "output_type": "stream",
     "text": [
      "ground_type\n",
      "Carpet indoor        40.674121\n",
      "Hardcourt indoor     41.333386\n",
      "Hardcourt outdoor    43.126553\n",
      "None                 37.362500\n",
      "Red clay             42.854245\n",
      "Synthetic outdoor    32.291667\n",
      "Name: total_points, dtype: float64\n"
     ]
    }
   ],
   "source": [
    "# محاسبه میانگین امتیازات برای هر نوع زمین\n",
    "avg_points_per_ground = merged_df.groupby('ground_type')['total_points'].mean()\n",
    "\n",
    "# نمایش نتیجه\n",
    "print(avg_points_per_ground)\n"
   ]
  },
  {
   "cell_type": "markdown",
   "metadata": {},
   "source": []
  },
  {
   "cell_type": "code",
   "execution_count": 14,
   "metadata": {},
   "outputs": [
    {
     "data": {
      "image/png": "[encoded data removed]",
      "text/plain": [
       "<Figure size 1000x600 with 1 Axes>"
      ]
     },
     "metadata": {},
     "output_type": "display_data"
    }
   ],
   "source": [
    "\n",
    "# مرتب‌سازی میانگین امتیازات از زیاد به کم\n",
    "sorted_avg_points = avg_points_per_ground.sort_values(ascending=False)\n",
    "\n",
    "# ترسیم نمودار به صورت افقی\n",
    "plt.figure(figsize=(10, 6))\n",
    "sorted_avg_points.plot(kind='barh', color='#4682b4')\n",
    "plt.title('Average Points by Ground Type', fontsize=16, color='gray', loc='left', fontweight='bold')\n",
    "plt.xlabel('Average Points', fontsize=10, color='gray', loc = 'left')\n",
    "plt.ylabel('Ground Type', fontsize=10, color='gray', loc='bottom')\n",
    "plt.tick_params(colors='gray')\n",
    "plt.gca().spines['right'].set_visible(False)\n",
    "plt.gca().spines['top'].set_visible(False)\n",
    "\n",
    "plt.show()\n"
   ]
  }
 ],
 "metadata": {
  "kernelspec": {
   "display_name": "base",
   "language": "python",
   "name": "python3"
  },
  "language_info": {
   "codemirror_mode": {
    "name": "ipython",
    "version": 3
   },
   "file_extension": ".py",
   "mimetype": "text/x-python",
   "name": "python",
   "nbconvert_exporter": "python",
   "pygments_lexer": "ipython3",
   "version": "3.12.4"
  }
 },
 "nbformat": 4,
 "nbformat_minor": 2
}
