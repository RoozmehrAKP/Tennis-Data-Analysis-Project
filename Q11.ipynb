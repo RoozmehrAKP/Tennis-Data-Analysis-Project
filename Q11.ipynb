{
 "cells": [
  {
   "cell_type": "markdown",
   "metadata": {},
   "source": [
    "# Average duration of a match"
   ]
  },
  {
   "cell_type": "code",
   "execution_count": 1,
   "metadata": {},
   "outputs": [
    {
     "name": "stdout",
     "output_type": "stream",
     "text": [
      "Average duration of a match: 100.40 min\n"
     ]
    }
   ],
   "source": [
    "import os\n",
    "import pandas as pd\n",
    "import matplotlib.pyplot as plt\n",
    "import seaborn as sns\n",
    "import numpy as np\n",
    "import warnings\n",
    "warnings.filterwarnings('ignore', category=FutureWarning)\n",
    "\n",
    "\n",
    "time_dataframe = pd.DataFrame()\n",
    "for file in os.listdir(\"raw/time_parquet\"):\n",
    "    single_stats = pd.read_parquet(\"raw/time_parquet/\" + file)\n",
    "    time_dataframe = pd.concat([time_dataframe, single_stats], axis= 'rows', ignore_index=True)\n",
    "\n",
    "\n",
    "\n",
    "time_dataframe.fillna(0, inplace=True)\n",
    "# محاسبه مجموع دوره‌ها (مدت زمان کل مسابقه) برای هر مسابقه\n",
    "time_dataframe['total_duration'] = (\n",
    "    time_dataframe['period_1'] +\n",
    "    time_dataframe['period_2'] +\n",
    "    time_dataframe['period_3'] +\n",
    "    time_dataframe['period_4'] +\n",
    "    time_dataframe['period_5']\n",
    ")\n",
    "\n",
    "\n",
    "\n",
    "# 1. حذف مسابقاتی که مدت زمان آن‌ها صفر است\n",
    "valid_durations = time_dataframe[time_dataframe['total_duration'] > 0]['total_duration']\n",
    "\n",
    "# 2. محاسبه میانگین مدت زمان\n",
    "average_duration = valid_durations.mean() / 60\n",
    "\n",
    "print(f\"Average duration of a match: {average_duration:.2f} min\")"
   ]
  },
  {
   "cell_type": "markdown",
   "metadata": {},
   "source": [
    "> ### Based on the average match duration of 6023.89 seconds (approximately 1 hour and 40 minutes), the following analyses can be drawn:\n",
    "\n",
    "1. **Appropriate Duration for Tennis Matches**: This duration generally reflects a standard tennis match. Tennis matches typically last between 1 to 3 hours, and an average of 6023.89 seconds indicates that most matches are held within a reasonable time frame.\n",
    "\n",
    "2. **Impact on Spectators**: The average duration of matches can influence the appeal of the events to spectators. Longer durations might lead to spectator fatigue, while shorter matches may be more engaging. An average time of 1 hour and 40 minutes seems suitable for maintaining audience attention.\n",
    "\n",
    "3. **Comparison with Other Sports**: This duration can be compared with other sports. While tennis matches may be longer than some sports, they appear reasonable when contrasted with others like football or basketball.\n",
    "\n",
    "4. **Player Performance Analysis**: Match duration can assist in analyzing player strategies and performance. For instance, do players who win matches typically spend less time on the court, or vice versa?\n",
    "\n",
    "5. **Existing Variations**: It may be worthwhile to investigate whether different factors, such as gender, match type, player level, or weather conditions, significantly impact match durations.\n",
    "\n",
    "6. **Distribution Analysis**: Additionally, analyzing the distribution of match durations can help identify any unusually short or long matches that may affect the average.\n",
    "\n",
    "These analyses can contribute to a better understanding of how matches are conducted and the factors influencing them, ultimately aiding coaches and organizers in optimizing the events."
   ]
  },
  {
   "cell_type": "markdown",
   "metadata": {},
   "source": []
  }
 ],
 "metadata": {
  "kernelspec": {
   "display_name": "base",
   "language": "python",
   "name": "python3"
  },
  "language_info": {
   "codemirror_mode": {
    "name": "ipython",
    "version": 3
   },
   "file_extension": ".py",
   "mimetype": "text/x-python",
   "name": "python",
   "nbconvert_exporter": "python",
   "pygments_lexer": "ipython3",
   "version": "3.12.4"
  }
 },
 "nbformat": 4,
 "nbformat_minor": 2
}
