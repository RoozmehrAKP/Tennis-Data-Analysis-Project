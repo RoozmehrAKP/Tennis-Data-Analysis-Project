{
 "cells": [
  {
   "cell_type": "markdown",
   "metadata": {},
   "source": [
    "# Which player has won the most tournaments in a single month?\n",
    "> #### I didn't find any column in any table that mentioned the month of tournament so I tried to find Player with the most tournament wins"
   ]
  },
  {
   "cell_type": "code",
   "execution_count": 1,
   "metadata": {},
   "outputs": [],
   "source": [
    "import os\n",
    "import pandas as pd\n",
    "import matplotlib.pyplot as plt\n",
    "import seaborn as sns\n",
    "import numpy as np\n",
    "\n",
    "import warnings\n",
    "warnings.filterwarnings('ignore', category=FutureWarning)\n",
    "\n",
    "home_team_dataframe = pd.DataFrame()\n",
    "for file in os.listdir(\"raw/home_team_parquet\"):\n",
    "    single_stats = pd.read_parquet(\"raw/home_team_parquet/\" + file)\n",
    "    home_team_dataframe = pd.concat([home_team_dataframe, single_stats], axis= 'rows', ignore_index=True)\n",
    "\n",
    "away_team_dataframe = pd.DataFrame()\n",
    "for file in os.listdir(\"raw/away_team_parquet\"):\n",
    "    single_stats = pd.read_parquet(\"raw/away_team_parquet/\" + file)\n",
    "    away_team_dataframe = pd.concat([away_team_dataframe, single_stats], axis= 'rows', ignore_index=True)\n",
    "\n",
    "event_dataframe = pd.DataFrame()\n",
    "for file in os.listdir(\"raw/event_parquet\"):\n",
    "    single_stats = pd.read_parquet(\"raw/event_parquet/\" + file)\n",
    "    event_dataframe = pd.concat([event_dataframe, single_stats], axis= 'rows', ignore_index=True)\n",
    "\n",
    "tournament_dataframe = pd.DataFrame()\n",
    "for file in os.listdir(\"raw/tournament_parquet\"):\n",
    "    single_stats = pd.read_parquet(\"raw/tournament_parquet/\" + file)\n",
    "    tournament_dataframe = pd.concat([tournament_dataframe, single_stats], axis= 'rows', ignore_index=True)\n",
    "  "
   ]
  },
  {
   "cell_type": "code",
   "execution_count": 2,
   "metadata": {},
   "outputs": [
    {
     "name": "stdout",
     "output_type": "stream",
     "text": [
      "Player with most tournament wins: Kubka M. (ID: 294815)\n",
      "Number of tournament wins: 2\n"
     ]
    }
   ],
   "source": [
    "# گام 1: ترکیب اطلاعات برنده‌های مسابقات\n",
    "# فیلتر کردن مسابقات برنده شده توسط تیم خانه (winner_code = 1)\n",
    "home_wins = event_dataframe[event_dataframe['winner_code'] == 1].merge(home_team_dataframe, on='match_id')\n",
    "\n",
    "# فیلتر کردن مسابقات برنده شده توسط تیم میهمان (winner_code = 2)\n",
    "away_wins = event_dataframe[event_dataframe['winner_code'] == 2].merge(away_team_dataframe, on='match_id')\n",
    "\n",
    "# ادغام لیست برندگان تیم خانه و میهمان\n",
    "all_wins = pd.concat([home_wins[['match_id', 'player_id']], away_wins[['match_id', 'player_id']]])\n",
    "\n",
    "# گام 2: ادغام اطلاعات تورنمنت‌ها با برندگان\n",
    "all_wins = all_wins.merge(tournament_dataframe[['match_id', 'tournament_id', 'tournament_name']], on='match_id')\n",
    "\n",
    "# گام 3: شمارش تعداد تورنمنت‌هایی که هر بازیکن برنده شده است\n",
    "tournament_wins = all_wins.groupby('player_id')['tournament_id'].nunique().reset_index(name='tournament_count')\n",
    "\n",
    "# گام 4: پیدا کردن بازیکنی که بیشترین تعداد تورنمنت‌ها را برنده شده است\n",
    "top_player = tournament_wins.loc[tournament_wins['tournament_count'].idxmax()]\n",
    "\n",
    "# استخراج اطلاعات بازیکن\n",
    "top_player_id = top_player['player_id']\n",
    "top_player_wins = top_player['tournament_count']\n",
    "\n",
    "# گام 5: پیدا کردن نام بازیکن از روی player_id\n",
    "if top_player_id in home_team_dataframe['player_id'].values:\n",
    "    top_player_name = home_team_dataframe[home_team_dataframe['player_id'] == top_player_id]['name'].values[0]\n",
    "elif top_player_id in away_team_dataframe['player_id'].values:\n",
    "    top_player_name = away_team_dataframe[away_team_dataframe['player_id'] == top_player_id]['name'].values[0]\n",
    "else:\n",
    "    top_player_name = \"No Player Found\"\n",
    "\n",
    "print(f\"Player with most tournament wins: {top_player_name} (ID: {top_player_id})\")\n",
    "print(f\"Number of tournament wins: {top_player_wins}\")"
   ]
  }
 ],
 "metadata": {
  "kernelspec": {
   "display_name": "base",
   "language": "python",
   "name": "python3"
  },
  "language_info": {
   "codemirror_mode": {
    "name": "ipython",
    "version": 3
   },
   "file_extension": ".py",
   "mimetype": "text/x-python",
   "name": "python",
   "nbconvert_exporter": "python",
   "pygments_lexer": "ipython3",
   "version": "3.12.4"
  }
 },
 "nbformat": 4,
 "nbformat_minor": 2
}
